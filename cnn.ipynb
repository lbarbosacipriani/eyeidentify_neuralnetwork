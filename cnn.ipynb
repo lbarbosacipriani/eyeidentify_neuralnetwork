{
 "cells": [
  {
   "cell_type": "markdown",
   "metadata": {},
   "source": [
    "## Treinamento de CNN para identificacao da iris."
   ]
  },
  {
   "cell_type": "markdown",
   "metadata": {},
   "source": [
    "# Particao do dataset BioID "
   ]
  },
  {
   "cell_type": "code",
   "execution_count": 2,
   "metadata": {},
   "outputs": [],
   "source": [
    "train= open('train.csv','w')\n",
    "test=open('test.csv','w')\n",
    "for i in range(0,1522):\n",
    "\n",
    "    if(i<1000):\n",
    "        train.write('BioID-FaceDatabase-V1/BioID_'+str(i-1).zfill(4)+'.pgm;'+'BioID-FaceDatabase-V1/BioID_'+str(i-1).zfill(4)+'.eye\\n')\n",
    "    else:\n",
    "        test.write('BioID-FaceDatabase-V1/BioID_'+str(i-1).zfill(4)+'.pgm;'+'BioID-FaceDatabase-V1/BioID_'+str(i-1).zfill(4)+'.eye\\n')\n",
    "\n",
    "train.close()\n",
    "test.close()"
   ]
  },
  {
   "cell_type": "code",
   "execution_count": 1,
   "metadata": {},
   "outputs": [
    {
     "data": {
      "text/plain": [
       "None"
      ]
     },
     "metadata": {},
     "output_type": "display_data"
    },
    {
     "data": {
      "text/plain": [
       "13"
      ]
     },
     "execution_count": 1,
     "metadata": {},
     "output_type": "execute_result"
    },
    {
     "ename": "",
     "evalue": "",
     "output_type": "error",
     "traceback": [
      "\u001b[1;31mO Kernel falhou ao executar o código na célula atual ou em uma célula anterior. Examine o código nas células para identificar uma possível causa da falha. Clique <a href=\"https://aka.ms/vscodeJupyterKernelCrash\">aqui</a> para obter mais informações. Consulte o <a href='command:jupyter.viewOutput'>log</a> do Jupyter para obter mais detalhes."
     ]
    }
   ],
   "source": [
    "import cv2\n",
    "\n",
    "img=cv2.imread('BioID-FaceDatabase-V1/BioID_0000.pgm')\n",
    "display(cv2.imshow('image',img))\n",
    "cv2.waitKey()\n"
   ]
  }
 ],
 "metadata": {
  "kernelspec": {
   "display_name": "Python 3",
   "language": "python",
   "name": "python3"
  },
  "language_info": {
   "codemirror_mode": {
    "name": "ipython",
    "version": 3
   },
   "file_extension": ".py",
   "mimetype": "text/x-python",
   "name": "python",
   "nbconvert_exporter": "python",
   "pygments_lexer": "ipython3",
   "version": "3.9.6"
  },
  "orig_nbformat": 4
 },
 "nbformat": 4,
 "nbformat_minor": 2
}
