{
  "cells": [
    {
      "cell_type": "code",
      "execution_count": 13,
      "metadata": {},
      "outputs": [],
      "source": [
        "#unet-train1.py\n",
        "#Treina rede unet para segmentacao semantica de eliret\n",
        "from PIL import Image\n",
        "import pandas as pd\n",
        "import os; os.environ['TF_CPP_MIN_LOG_LEVEL']='3'\n",
        "os.environ['TF_FORCE_GPU_ALLOW_GROWTH'] = 'true'\n",
        "import cv2; import numpy as np; np.random.seed(7); import sys\n",
        "import tensorflow.keras as keras; from tensorflow.keras.models import *\n",
        "from tensorflow.keras.layers import *; from tensorflow.keras.optimizers import *\n",
        "import matplotlib.pyplot as plt\n",
        "from skimage.transform import rescale, resize, downscale_local_mean"
      ]
    },
    {
      "cell_type": "code",
      "execution_count": 55,
      "metadata": {
        "colab": {
          "base_uri": "https://localhost:8080/"
        },
        "id": "Fbk-fB1ilP0c",
        "outputId": "8d853ad7-dbdd-4636-8a52-ce8be4a12a07"
      },
      "outputs": [],
      "source": [
        "tamanho_img=512\n",
        "\n",
        "def leCsv(nomeDir,nomeArq):\n",
        "  print(\"Lendo: \",nomeArq); arq=open(os.path.join(nomeDir,nomeArq),\"r\")\n",
        "  lines=arq.readlines(); arq.close(); n=len(lines)\n",
        "  nl,nc = 286,384\n",
        "  AX=np.empty((n,nl,nc),dtype='uint8'); AY=np.empty((n,nl,nc),dtype='uint8')\n",
        "  i=0\n",
        "  for linha in lines:\n",
        "    linha=linha.strip('\\n'); linha=linha.split(';')\n",
        "    nomeDir=''\n",
        "    #print(os.path.join(nomeDir,linha[0]))\n",
        "    AX[i]=Image.open(os.path.join(nomeDir,linha[0]))\n",
        "    AX[i]= np.array(AX[i])\n",
        "  #  print(AX[i])\n",
        "  #  AX[i]=AX[i]*255/AX[i].max()\n",
        "    AY_aux=str(pd.read_csv(os.path.join(nomeDir,linha[1])))\n",
        "\n",
        "    AY_aux= AY_aux.split('\\n')[1]\n",
        "    AY_aux=AY_aux.split('\\\\t')\n",
        "    AY_aux[0]=AY_aux[0].split(' ')[2]\n",
        "    AY[i]=AX[i].copy()\n",
        "    cv2.rectangle(AY[i], (int(AY_aux[0]),int(AY_aux[1])), (int(AY_aux[2]),int(AY_aux[3])), (255,255,255) ,2)\n",
        "\n",
        "    AY[i]= np.array(AY[i])\n",
        " #   AY[ AY>=125 ] = 255\n",
        " #   AY[ AY<125] = 0\n",
        " #   AY[i]=AY[i]*255/AY[i].max()\n",
        " #   f = plt.figure()\n",
        " #   f.add_subplot(1,4,1); plt.imshow(AX[i],cmap=\"gray\"); plt.axis('off')\n",
        " #   f.add_subplot(1,4,2); plt.imshow(AY[i],cmap=\"gray\"); plt.axis('off')\n",
        " #   plt.show(block=True)\n",
        " #   ax1=np.float32(AX[i].reshape(nl,nc))/255.0\n",
        " #   ax2=np.float32(AY[i].reshape(nl,nc))/255.0\n",
        " #   f = plt.figure()\n",
        " #   f.add_subplot(1,4,1); plt.imshow(ax1,cmap=\"gray\"); plt.axis('off')\n",
        " #   f.add_subplot(1,4,2); plt.imshow(ax2,cmap=\"gray\"); plt.axis('off')\n",
        " #   plt.show(block=True)\n",
        "    i=i+1\n",
        "\n",
        "  ax= np.float32(AX)/255.0\n",
        "  ay= np.float32(AY)/255.0 #Entre 0 e +1\n",
        " #   AY[i]=AY[i]*255/AY[i].max()\n",
        "\n",
        "  return ax,ay\n"
      ]
    },
    {
      "cell_type": "code",
      "execution_count": 56,
      "metadata": {},
      "outputs": [
        {
          "name": "stdout",
          "output_type": "stream",
          "text": [
            "Lendo:  train.csv\n",
            "Lendo:  test.csv\n"
          ]
        }
      ],
      "source": [
        "#<<<<<<<<<<<<<<<<<<<< main <<<<<<<<<<<<<<<<<<<<<<<<<<<<<<\n",
        "bdDir = \"\"\n",
        "ax, ay = leCsv(bdDir,\"train.csv\")\n",
        "vx, vy = leCsv(bdDir,\"test.csv\")\n",
        "#qx, qy = leCsv(bdDir,\"teste.csv\")\n",
        "outDir = \".\"; os.chdir(outDir)"
      ]
    },
    {
      "cell_type": "code",
      "execution_count": 24,
      "metadata": {
        "id": "CyKn3k8kXBpw"
      },
      "outputs": [],
      "source": [
        "def impHistoria(history):\n",
        "  print(history.history.keys())\n",
        "  plt.plot(history.history['loss']); plt.plot(history.history['val_loss'])\n",
        "  plt.title('model loss'); plt.ylabel('loss'); plt.xlabel('epoch')\n",
        "  plt.legend(['train', 'test'], loc='upper left')\n",
        "  plt.show()"
      ]
    },
    {
      "cell_type": "code",
      "execution_count": 57,
      "metadata": {
        "id": "lyEZhR7BNQ7v"
      },
      "outputs": [],
      "source": [
        "def unet(input_size = (286,384,1)):\n",
        "  n=64\n",
        "  inputs = Input(input_size)\n",
        "  conv2 = Conv2D(n, 3, activation = 'relu', padding = 'same' )(inputs)\n",
        "  conv2 = Conv2D(n, 3, activation = 'relu', padding = 'same' )(conv2)\n",
        "  conv9 = Conv2D(1, 1, activation = 'relu', padding = 'same' )(conv2)\n",
        "  model = Model(inputs = inputs, outputs = conv9)\n",
        "  model.compile(optimizer = Adam(learning_rate=1e-5), loss = 'mean_squared_error',metrics=['accuracy'])\n",
        "  from tensorflow.keras.utils import plot_model\n",
        "  plot_model(model, to_file='unet-train1.png', show_shapes=True)\n",
        "  model.summary()\n",
        "  return model\n"
      ]
    },
    {
      "cell_type": "code",
      "execution_count": null,
      "metadata": {
        "id": "f3X3WbSmbO2F"
      },
      "outputs": [],
      "source": []
    },
    {
      "cell_type": "markdown",
      "metadata": {
        "id": "GxHz0Mwim5Q9"
      },
      "source": []
    },
    {
      "cell_type": "code",
      "execution_count": 58,
      "metadata": {
        "colab": {
          "base_uri": "https://localhost:8080/",
          "height": 246
        },
        "id": "ck2S4qtzj5wa",
        "outputId": "7c72c863-59ea-4f3a-a507-bf8fcaba5086"
      },
      "outputs": [
        {
          "name": "stderr",
          "output_type": "stream",
          "text": [
            "WARNING:absl:At this time, the v2.11+ optimizer `tf.keras.optimizers.Adam` runs slowly on M1/M2 Macs, please use the legacy Keras optimizer instead, located at `tf.keras.optimizers.legacy.Adam`.\n",
            "WARNING:absl:There is a known slowdown when using v2.11+ Keras optimizers on M1/M2 Macs. Falling back to the legacy Keras optimizer, i.e., `tf.keras.optimizers.legacy.Adam`.\n"
          ]
        },
        {
          "name": "stdout",
          "output_type": "stream",
          "text": [
            "You must install pydot (`pip install pydot`) and install graphviz (see instructions at https://graphviz.gitlab.io/download/) for plot_model to work.\n",
            "Model: \"model_4\"\n",
            "_________________________________________________________________\n",
            " Layer (type)                Output Shape              Param #   \n",
            "=================================================================\n",
            " input_5 (InputLayer)        [(None, 286, 384, 1)]     0         \n",
            "                                                                 \n",
            " conv2d_12 (Conv2D)          (None, 286, 384, 64)      640       \n",
            "                                                                 \n",
            " conv2d_13 (Conv2D)          (None, 286, 384, 128)     73856     \n",
            "                                                                 \n",
            " conv2d_14 (Conv2D)          (None, 286, 384, 1)       129       \n",
            "                                                                 \n",
            "=================================================================\n",
            "Total params: 74625 (291.50 KB)\n",
            "Trainable params: 74625 (291.50 KB)\n",
            "Non-trainable params: 0 (0.00 Byte)\n",
            "_________________________________________________________________\n",
            "Epoch 1/25\n"
          ]
        },
        {
          "ename": "KeyboardInterrupt",
          "evalue": "",
          "output_type": "error",
          "traceback": [
            "\u001b[0;31m---------------------------------------------------------------------------\u001b[0m",
            "\u001b[0;31mKeyboardInterrupt\u001b[0m                         Traceback (most recent call last)",
            "Cell \u001b[0;32mIn[58], line 21\u001b[0m\n\u001b[1;32m     14\u001b[0m reduce_lr \u001b[39m=\u001b[39m ReduceLROnPlateau(monitor\u001b[39m=\u001b[39m\u001b[39m'\u001b[39m\u001b[39mloss\u001b[39m\u001b[39m'\u001b[39m,\n\u001b[1;32m     15\u001b[0m factor\u001b[39m=\u001b[39m\u001b[39m0.9\u001b[39m, patience\u001b[39m=\u001b[39m\u001b[39m1\u001b[39m, min_lr\u001b[39m=\u001b[39m\u001b[39m0.0000000001\u001b[39m, verbose\u001b[39m=\u001b[39m\u001b[39mTrue\u001b[39;00m)\n\u001b[1;32m     18\u001b[0m \u001b[39m#history=model.fit(datagen.flow(ax,ay,batch_size=batch_size),epochs=100, verbose=2, validation_data=(vx, vy),callbacks=[reduce_lr])\u001b[39;00m\n\u001b[0;32m---> 21\u001b[0m history\u001b[39m=\u001b[39mmodel\u001b[39m.\u001b[39;49mfit(ax, ay, batch_size\u001b[39m=\u001b[39;49m\u001b[39m3\u001b[39;49m, epochs\u001b[39m=\u001b[39;49m\u001b[39m25\u001b[39;49m, verbose\u001b[39m=\u001b[39;49m\u001b[39m2\u001b[39;49m, validation_data\u001b[39m=\u001b[39;49m(vx,vy));\n\u001b[1;32m     22\u001b[0m model\u001b[39m.\u001b[39msave(\u001b[39m\"\u001b[39m\u001b[39m/content/drive/MyDrive/unet5.h5\u001b[39m\u001b[39m\"\u001b[39m);\n",
            "File \u001b[0;32m~/Library/Python/3.9/lib/python/site-packages/keras/src/utils/traceback_utils.py:65\u001b[0m, in \u001b[0;36mfilter_traceback.<locals>.error_handler\u001b[0;34m(*args, **kwargs)\u001b[0m\n\u001b[1;32m     63\u001b[0m filtered_tb \u001b[39m=\u001b[39m \u001b[39mNone\u001b[39;00m\n\u001b[1;32m     64\u001b[0m \u001b[39mtry\u001b[39;00m:\n\u001b[0;32m---> 65\u001b[0m     \u001b[39mreturn\u001b[39;00m fn(\u001b[39m*\u001b[39;49margs, \u001b[39m*\u001b[39;49m\u001b[39m*\u001b[39;49mkwargs)\n\u001b[1;32m     66\u001b[0m \u001b[39mexcept\u001b[39;00m \u001b[39mException\u001b[39;00m \u001b[39mas\u001b[39;00m e:\n\u001b[1;32m     67\u001b[0m     filtered_tb \u001b[39m=\u001b[39m _process_traceback_frames(e\u001b[39m.\u001b[39m__traceback__)\n",
            "File \u001b[0;32m~/Library/Python/3.9/lib/python/site-packages/keras/src/engine/training.py:1742\u001b[0m, in \u001b[0;36mModel.fit\u001b[0;34m(self, x, y, batch_size, epochs, verbose, callbacks, validation_split, validation_data, shuffle, class_weight, sample_weight, initial_epoch, steps_per_epoch, validation_steps, validation_batch_size, validation_freq, max_queue_size, workers, use_multiprocessing)\u001b[0m\n\u001b[1;32m   1734\u001b[0m \u001b[39mwith\u001b[39;00m tf\u001b[39m.\u001b[39mprofiler\u001b[39m.\u001b[39mexperimental\u001b[39m.\u001b[39mTrace(\n\u001b[1;32m   1735\u001b[0m     \u001b[39m\"\u001b[39m\u001b[39mtrain\u001b[39m\u001b[39m\"\u001b[39m,\n\u001b[1;32m   1736\u001b[0m     epoch_num\u001b[39m=\u001b[39mepoch,\n\u001b[0;32m   (...)\u001b[0m\n\u001b[1;32m   1739\u001b[0m     _r\u001b[39m=\u001b[39m\u001b[39m1\u001b[39m,\n\u001b[1;32m   1740\u001b[0m ):\n\u001b[1;32m   1741\u001b[0m     callbacks\u001b[39m.\u001b[39mon_train_batch_begin(step)\n\u001b[0;32m-> 1742\u001b[0m     tmp_logs \u001b[39m=\u001b[39m \u001b[39mself\u001b[39;49m\u001b[39m.\u001b[39;49mtrain_function(iterator)\n\u001b[1;32m   1743\u001b[0m     \u001b[39mif\u001b[39;00m data_handler\u001b[39m.\u001b[39mshould_sync:\n\u001b[1;32m   1744\u001b[0m         context\u001b[39m.\u001b[39masync_wait()\n",
            "File \u001b[0;32m~/Library/Python/3.9/lib/python/site-packages/tensorflow/python/util/traceback_utils.py:150\u001b[0m, in \u001b[0;36mfilter_traceback.<locals>.error_handler\u001b[0;34m(*args, **kwargs)\u001b[0m\n\u001b[1;32m    148\u001b[0m filtered_tb \u001b[39m=\u001b[39m \u001b[39mNone\u001b[39;00m\n\u001b[1;32m    149\u001b[0m \u001b[39mtry\u001b[39;00m:\n\u001b[0;32m--> 150\u001b[0m   \u001b[39mreturn\u001b[39;00m fn(\u001b[39m*\u001b[39;49margs, \u001b[39m*\u001b[39;49m\u001b[39m*\u001b[39;49mkwargs)\n\u001b[1;32m    151\u001b[0m \u001b[39mexcept\u001b[39;00m \u001b[39mException\u001b[39;00m \u001b[39mas\u001b[39;00m e:\n\u001b[1;32m    152\u001b[0m   filtered_tb \u001b[39m=\u001b[39m _process_traceback_frames(e\u001b[39m.\u001b[39m__traceback__)\n",
            "File \u001b[0;32m~/Library/Python/3.9/lib/python/site-packages/tensorflow/python/eager/polymorphic_function/polymorphic_function.py:825\u001b[0m, in \u001b[0;36mFunction.__call__\u001b[0;34m(self, *args, **kwds)\u001b[0m\n\u001b[1;32m    822\u001b[0m compiler \u001b[39m=\u001b[39m \u001b[39m\"\u001b[39m\u001b[39mxla\u001b[39m\u001b[39m\"\u001b[39m \u001b[39mif\u001b[39;00m \u001b[39mself\u001b[39m\u001b[39m.\u001b[39m_jit_compile \u001b[39melse\u001b[39;00m \u001b[39m\"\u001b[39m\u001b[39mnonXla\u001b[39m\u001b[39m\"\u001b[39m\n\u001b[1;32m    824\u001b[0m \u001b[39mwith\u001b[39;00m OptionalXlaContext(\u001b[39mself\u001b[39m\u001b[39m.\u001b[39m_jit_compile):\n\u001b[0;32m--> 825\u001b[0m   result \u001b[39m=\u001b[39m \u001b[39mself\u001b[39;49m\u001b[39m.\u001b[39;49m_call(\u001b[39m*\u001b[39;49margs, \u001b[39m*\u001b[39;49m\u001b[39m*\u001b[39;49mkwds)\n\u001b[1;32m    827\u001b[0m new_tracing_count \u001b[39m=\u001b[39m \u001b[39mself\u001b[39m\u001b[39m.\u001b[39mexperimental_get_tracing_count()\n\u001b[1;32m    828\u001b[0m without_tracing \u001b[39m=\u001b[39m (tracing_count \u001b[39m==\u001b[39m new_tracing_count)\n",
            "File \u001b[0;32m~/Library/Python/3.9/lib/python/site-packages/tensorflow/python/eager/polymorphic_function/polymorphic_function.py:857\u001b[0m, in \u001b[0;36mFunction._call\u001b[0;34m(self, *args, **kwds)\u001b[0m\n\u001b[1;32m    854\u001b[0m   \u001b[39mself\u001b[39m\u001b[39m.\u001b[39m_lock\u001b[39m.\u001b[39mrelease()\n\u001b[1;32m    855\u001b[0m   \u001b[39m# In this case we have created variables on the first call, so we run the\u001b[39;00m\n\u001b[1;32m    856\u001b[0m   \u001b[39m# defunned version which is guaranteed to never create variables.\u001b[39;00m\n\u001b[0;32m--> 857\u001b[0m   \u001b[39mreturn\u001b[39;00m \u001b[39mself\u001b[39;49m\u001b[39m.\u001b[39;49m_no_variable_creation_fn(\u001b[39m*\u001b[39;49margs, \u001b[39m*\u001b[39;49m\u001b[39m*\u001b[39;49mkwds)  \u001b[39m# pylint: disable=not-callable\u001b[39;00m\n\u001b[1;32m    858\u001b[0m \u001b[39melif\u001b[39;00m \u001b[39mself\u001b[39m\u001b[39m.\u001b[39m_variable_creation_fn \u001b[39mis\u001b[39;00m \u001b[39mnot\u001b[39;00m \u001b[39mNone\u001b[39;00m:\n\u001b[1;32m    859\u001b[0m   \u001b[39m# Release the lock early so that multiple threads can perform the call\u001b[39;00m\n\u001b[1;32m    860\u001b[0m   \u001b[39m# in parallel.\u001b[39;00m\n\u001b[1;32m    861\u001b[0m   \u001b[39mself\u001b[39m\u001b[39m.\u001b[39m_lock\u001b[39m.\u001b[39mrelease()\n",
            "File \u001b[0;32m~/Library/Python/3.9/lib/python/site-packages/tensorflow/python/eager/polymorphic_function/tracing_compiler.py:148\u001b[0m, in \u001b[0;36mTracingCompiler.__call__\u001b[0;34m(self, *args, **kwargs)\u001b[0m\n\u001b[1;32m    145\u001b[0m \u001b[39mwith\u001b[39;00m \u001b[39mself\u001b[39m\u001b[39m.\u001b[39m_lock:\n\u001b[1;32m    146\u001b[0m   (concrete_function,\n\u001b[1;32m    147\u001b[0m    filtered_flat_args) \u001b[39m=\u001b[39m \u001b[39mself\u001b[39m\u001b[39m.\u001b[39m_maybe_define_function(args, kwargs)\n\u001b[0;32m--> 148\u001b[0m \u001b[39mreturn\u001b[39;00m concrete_function\u001b[39m.\u001b[39;49m_call_flat(\n\u001b[1;32m    149\u001b[0m     filtered_flat_args, captured_inputs\u001b[39m=\u001b[39;49mconcrete_function\u001b[39m.\u001b[39;49mcaptured_inputs)\n",
            "File \u001b[0;32m~/Library/Python/3.9/lib/python/site-packages/tensorflow/python/eager/polymorphic_function/monomorphic_function.py:1349\u001b[0m, in \u001b[0;36mConcreteFunction._call_flat\u001b[0;34m(self, args, captured_inputs)\u001b[0m\n\u001b[1;32m   1345\u001b[0m possible_gradient_type \u001b[39m=\u001b[39m gradients_util\u001b[39m.\u001b[39mPossibleTapeGradientTypes(args)\n\u001b[1;32m   1346\u001b[0m \u001b[39mif\u001b[39;00m (possible_gradient_type \u001b[39m==\u001b[39m gradients_util\u001b[39m.\u001b[39mPOSSIBLE_GRADIENT_TYPES_NONE\n\u001b[1;32m   1347\u001b[0m     \u001b[39mand\u001b[39;00m executing_eagerly):\n\u001b[1;32m   1348\u001b[0m   \u001b[39m# No tape is watching; skip to running the function.\u001b[39;00m\n\u001b[0;32m-> 1349\u001b[0m   \u001b[39mreturn\u001b[39;00m \u001b[39mself\u001b[39m\u001b[39m.\u001b[39m_build_call_outputs(\u001b[39mself\u001b[39;49m\u001b[39m.\u001b[39;49m_inference_function(\u001b[39m*\u001b[39;49margs))\n\u001b[1;32m   1350\u001b[0m forward_backward \u001b[39m=\u001b[39m \u001b[39mself\u001b[39m\u001b[39m.\u001b[39m_select_forward_and_backward_functions(\n\u001b[1;32m   1351\u001b[0m     args,\n\u001b[1;32m   1352\u001b[0m     possible_gradient_type,\n\u001b[1;32m   1353\u001b[0m     executing_eagerly)\n\u001b[1;32m   1354\u001b[0m forward_function, args_with_tangents \u001b[39m=\u001b[39m forward_backward\u001b[39m.\u001b[39mforward()\n",
            "File \u001b[0;32m~/Library/Python/3.9/lib/python/site-packages/tensorflow/python/eager/polymorphic_function/atomic_function.py:196\u001b[0m, in \u001b[0;36mAtomicFunction.__call__\u001b[0;34m(self, *args)\u001b[0m\n\u001b[1;32m    194\u001b[0m \u001b[39mwith\u001b[39;00m record\u001b[39m.\u001b[39mstop_recording():\n\u001b[1;32m    195\u001b[0m   \u001b[39mif\u001b[39;00m \u001b[39mself\u001b[39m\u001b[39m.\u001b[39m_bound_context\u001b[39m.\u001b[39mexecuting_eagerly():\n\u001b[0;32m--> 196\u001b[0m     outputs \u001b[39m=\u001b[39m \u001b[39mself\u001b[39;49m\u001b[39m.\u001b[39;49m_bound_context\u001b[39m.\u001b[39;49mcall_function(\n\u001b[1;32m    197\u001b[0m         \u001b[39mself\u001b[39;49m\u001b[39m.\u001b[39;49mname,\n\u001b[1;32m    198\u001b[0m         \u001b[39mlist\u001b[39;49m(args),\n\u001b[1;32m    199\u001b[0m         \u001b[39mlen\u001b[39;49m(\u001b[39mself\u001b[39;49m\u001b[39m.\u001b[39;49mfunction_type\u001b[39m.\u001b[39;49mflat_outputs),\n\u001b[1;32m    200\u001b[0m     )\n\u001b[1;32m    201\u001b[0m   \u001b[39melse\u001b[39;00m:\n\u001b[1;32m    202\u001b[0m     outputs \u001b[39m=\u001b[39m make_call_op_in_graph(\u001b[39mself\u001b[39m, \u001b[39mlist\u001b[39m(args))\n",
            "File \u001b[0;32m~/Library/Python/3.9/lib/python/site-packages/tensorflow/python/eager/context.py:1457\u001b[0m, in \u001b[0;36mContext.call_function\u001b[0;34m(self, name, tensor_inputs, num_outputs)\u001b[0m\n\u001b[1;32m   1455\u001b[0m cancellation_context \u001b[39m=\u001b[39m cancellation\u001b[39m.\u001b[39mcontext()\n\u001b[1;32m   1456\u001b[0m \u001b[39mif\u001b[39;00m cancellation_context \u001b[39mis\u001b[39;00m \u001b[39mNone\u001b[39;00m:\n\u001b[0;32m-> 1457\u001b[0m   outputs \u001b[39m=\u001b[39m execute\u001b[39m.\u001b[39;49mexecute(\n\u001b[1;32m   1458\u001b[0m       name\u001b[39m.\u001b[39;49mdecode(\u001b[39m\"\u001b[39;49m\u001b[39mutf-8\u001b[39;49m\u001b[39m\"\u001b[39;49m),\n\u001b[1;32m   1459\u001b[0m       num_outputs\u001b[39m=\u001b[39;49mnum_outputs,\n\u001b[1;32m   1460\u001b[0m       inputs\u001b[39m=\u001b[39;49mtensor_inputs,\n\u001b[1;32m   1461\u001b[0m       attrs\u001b[39m=\u001b[39;49mattrs,\n\u001b[1;32m   1462\u001b[0m       ctx\u001b[39m=\u001b[39;49m\u001b[39mself\u001b[39;49m,\n\u001b[1;32m   1463\u001b[0m   )\n\u001b[1;32m   1464\u001b[0m \u001b[39melse\u001b[39;00m:\n\u001b[1;32m   1465\u001b[0m   outputs \u001b[39m=\u001b[39m execute\u001b[39m.\u001b[39mexecute_with_cancellation(\n\u001b[1;32m   1466\u001b[0m       name\u001b[39m.\u001b[39mdecode(\u001b[39m\"\u001b[39m\u001b[39mutf-8\u001b[39m\u001b[39m\"\u001b[39m),\n\u001b[1;32m   1467\u001b[0m       num_outputs\u001b[39m=\u001b[39mnum_outputs,\n\u001b[0;32m   (...)\u001b[0m\n\u001b[1;32m   1471\u001b[0m       cancellation_manager\u001b[39m=\u001b[39mcancellation_context,\n\u001b[1;32m   1472\u001b[0m   )\n",
            "File \u001b[0;32m~/Library/Python/3.9/lib/python/site-packages/tensorflow/python/eager/execute.py:53\u001b[0m, in \u001b[0;36mquick_execute\u001b[0;34m(op_name, num_outputs, inputs, attrs, ctx, name)\u001b[0m\n\u001b[1;32m     51\u001b[0m \u001b[39mtry\u001b[39;00m:\n\u001b[1;32m     52\u001b[0m   ctx\u001b[39m.\u001b[39mensure_initialized()\n\u001b[0;32m---> 53\u001b[0m   tensors \u001b[39m=\u001b[39m pywrap_tfe\u001b[39m.\u001b[39;49mTFE_Py_Execute(ctx\u001b[39m.\u001b[39;49m_handle, device_name, op_name,\n\u001b[1;32m     54\u001b[0m                                       inputs, attrs, num_outputs)\n\u001b[1;32m     55\u001b[0m \u001b[39mexcept\u001b[39;00m core\u001b[39m.\u001b[39m_NotOkStatusException \u001b[39mas\u001b[39;00m e:\n\u001b[1;32m     56\u001b[0m   \u001b[39mif\u001b[39;00m name \u001b[39mis\u001b[39;00m \u001b[39mnot\u001b[39;00m \u001b[39mNone\u001b[39;00m:\n",
            "\u001b[0;31mKeyboardInterrupt\u001b[0m: "
          ]
        }
      ],
      "source": [
        "from tensorflow.keras.preprocessing.image import ImageDataGenerator\n",
        "from tensorflow.keras.callbacks import ReduceLROnPlateau\n",
        "\n",
        "#Escolha entre comecar treino do zero ou continuar o treino de onde parou\n",
        "model=unet()\n",
        "#model = load_model(\"unet1.h5\");\n",
        "\n",
        "\n",
        "#history=model.fit(ax, ay, batch_size=1, epochs=100, verbose=2, validation_data=(vx,vy));\n",
        "\n",
        "\n",
        "\n",
        "batch_size=1\n",
        "reduce_lr = ReduceLROnPlateau(monitor='loss',\n",
        "factor=0.9, patience=1, min_lr=0.0000000001, verbose=True)\n",
        "\n",
        "\n",
        "#history=model.fit(datagen.flow(ax,ay,batch_size=batch_size),epochs=100, verbose=2, validation_data=(vx, vy),callbacks=[reduce_lr])\n",
        "\n",
        "\n",
        "history=model.fit(ax, ay, batch_size=3, epochs=25, verbose=2, validation_data=(vx,vy));\n",
        "model.save(\"/content/drive/MyDrive/unet5.h5\");"
      ]
    },
    {
      "cell_type": "code",
      "execution_count": null,
      "metadata": {
        "id": "XTIgZjNcE27-"
      },
      "outputs": [],
      "source": [
        "#impHistoria(history); model.save(\"/content/drive/MyDrive/unet1.h5\");\n",
        "impHistoria(history);"
      ]
    },
    {
      "cell_type": "code",
      "execution_count": null,
      "metadata": {
        "id": "3Sht9ymTdqUG"
      },
      "outputs": [],
      "source": [
        "score = model.evaluate(ax, ay, verbose=0); print('Training loss:', score)\n",
        "score = model.evaluate(vx, vy, verbose=0); print('Validation loss:', score)"
      ]
    },
    {
      "cell_type": "code",
      "execution_count": null,
      "metadata": {
        "id": "i2NVfhstlTF3"
      },
      "outputs": [],
      "source": [
        "#unet-pred1.py\n",
        "#Faz segmentacao de elipses e retangulos usando rede gerada pelo unet-train1.py\n",
        "from PIL import Image\n",
        "import os; os.environ['TF_CPP_MIN_LOG_LEVEL']='3'\n",
        "os.environ['TF_FORCE_GPU_ALLOW_GROWTH'] = 'true'\n",
        "import cv2; import numpy as np; np.random.seed(7)\n",
        "import tensorflow.keras as keras\n",
        "from tensorflow.keras.models import load_model\n",
        "from tensorflow.keras.layers import Dropout, Conv2D, Conv2DTranspose\n",
        "from tensorflow.keras import optimizers\n",
        "import sys; from sys import argv\n",
        "from matplotlib import pyplot as plt\n",
        "\n",
        "#<<<<<<<<<<<<<<<<<<< main <<<<<<<<<<<<<<<<<<<<<<\n",
        "bdDir = \"\"\n",
        "outDir = \".\"; os.chdir(outDir)\n",
        "nome=\"zz\"\n",
        "#inImgX = nome+\"x.png\"; inImgY = nome+\"y.png\"\n",
        "inImgX=\"/content/drive/MyDrive/Colab Notebooks/dataset_artigobase/HeLa/train/DIC-C2DH-HeLa/01/t010.tif\"\n",
        "inImgY=\"/content/drive/MyDrive/Colab Notebooks/dataset_artigobase/HeLa/train/DIC-C2DH-HeLa/01_ST/SEG/man_seg010.tif\"\n",
        "outImgG=nome+\"g.png\"; outImgB =nome+\"saida.png\"\n",
        "arquivoRede = \"/content/drive/MyDrive/unet1.h5\"\n",
        "\n",
        "model = load_model(os.path.join(outDir,arquivoRede))\n",
        "QX=cv2.imread(os.path.join(bdDir,inImgX),0)\n",
        "QY=cv2.imread(os.path.join(bdDir,inImgY),0)\n",
        "\n",
        "#im.show()\n",
        "#QY= np.array(QY)\n",
        "\n",
        "print(QY)\n",
        "nl=QX.shape[0]; nc=QX.shape[1]\n",
        "#print(str(nl) +' '+ str(nc))\n",
        "qx=np.float32(QX)/255.0 #Entre 0 e +1\n",
        "qx2=qx\n",
        "qx=qx.reshape(1, nl, nc, 1)\n",
        "\n",
        "qp=model.predict(qx); qp=qp.reshape(nl,nc) # entre 0 e +1\n",
        "\n",
        "QPG=255.0*qp; QPG=np.clip(QPG,0,255) # Entre 0 e 255\n",
        "QPG=np.uint8(QPG); cv2.imwrite(os.path.join(outDir,outImgG),qp)\n",
        "\n",
        "QPB=np.zeros((nl,nc),dtype='uint8'); QPB[ qp>=0.02] = 255\n",
        "cv2.imwrite(os.path.join(outDir,outImgB),QPB)\n",
        "\n",
        "f = plt.figure()\n",
        "#f.add_subplot(1,4,1); plt.imshow(QX,cmap=\"gray\"); plt.axis('off')\n",
        "f.add_subplot(1,2,1); plt.imshow(QY*50000,cmap=\"gray\"); plt.axis('off')\n",
        "#f.add_subplot(1,4,3); plt.imshow(QPB,cmap=\"gray\"); plt.axis('off')\n",
        "f.add_subplot(1,2,2); plt.imshow(qp*255/.16720633,cmap=\"gray\"); plt.axis('off')\n",
        "plt.show(block=True)\n",
        "\n",
        "print(QY.max())"
      ]
    },
    {
      "cell_type": "code",
      "execution_count": null,
      "metadata": {
        "id": "TjVXp5Tc6fFG"
      },
      "outputs": [],
      "source": [
        "vx[12].mean()\n",
        "vy[13].max()\n",
        "\n",
        "img1=vx[7]\n",
        "img2=vy[7]\n",
        "\n",
        "f = plt.figure()\n",
        "f.add_subplot(1,4,1); plt.imshow(img1,cmap=\"gray\"); plt.axis('off')\n",
        "f.add_subplot(1,4,2); plt.imshow(img2,cmap=\"gray\"); plt.axis('off')"
      ]
    },
    {
      "cell_type": "code",
      "execution_count": null,
      "metadata": {
        "id": "fcZgWEcMEL8D"
      },
      "outputs": [],
      "source": [
        "255/.02966377"
      ]
    },
    {
      "cell_type": "code",
      "execution_count": null,
      "metadata": {
        "id": "OPSzcH8N721N"
      },
      "outputs": [],
      "source": []
    },
    {
      "cell_type": "code",
      "execution_count": null,
      "metadata": {
        "id": "UyIA4KnDxljY"
      },
      "outputs": [],
      "source": [
        "def get_iou(ground_truth, pred):\n",
        "    # coordinates of the area of intersection.\n",
        "    ix1 = np.maximum(ground_truth[0], pred[0])\n",
        "    iy1 = np.maximum(ground_truth[1], pred[1])\n",
        "    ix2 = np.minimum(ground_truth[2], pred[2])\n",
        "    iy2 = np.minimum(ground_truth[3], pred[3])\n",
        "\n",
        "    # Intersection height and width.\n",
        "    i_height = np.maximum(iy2 - iy1 + 1, np.array(0.))\n",
        "    i_width = np.maximum(ix2 - ix1 + 1, np.array(0.))\n",
        "\n",
        "    area_of_intersection = i_height * i_width\n",
        "\n",
        "    # Ground Truth dimensions.\n",
        "    gt_height = ground_truth[3] - ground_truth[1] + 1\n",
        "    gt_width = ground_truth[2] - ground_truth[0] + 1\n",
        "\n",
        "    # Prediction dimensions.\n",
        "    pd_height = pred[3] - pred[1] + 1\n",
        "    pd_width = pred[2] - pred[0] + 1\n",
        "\n",
        "    area_of_union = gt_height * gt_width + pd_height * pd_width - area_of_intersection\n",
        "\n",
        "    iou = area_of_intersection / area_of_union\n",
        "\n",
        "    return iou"
      ]
    },
    {
      "cell_type": "code",
      "execution_count": null,
      "metadata": {
        "id": "XxgW8qmHDKNR"
      },
      "outputs": [],
      "source": [
        "  from tensorflow.keras.utils import plot_model\n",
        "\n",
        "plot_model(model, to_file='unet-train1.png', show_shapes=True)\n"
      ]
    },
    {
      "cell_type": "code",
      "execution_count": null,
      "metadata": {
        "id": "JPSmsY9kgxSS"
      },
      "outputs": [],
      "source": [
        "acc=0\n",
        "nl,nc=512,512\n",
        "print(np.shape(qp))\n",
        "for i in range(0,20):\n",
        "  qx=vx[i].reshape(1, nl, nc, 1)\n",
        "  qp=model.predict(qx); qp=qp.reshape(nl,nc) # entre 0 e +1\n",
        "\n",
        "  acc += get_iou(vy[i],qp).mean()"
      ]
    },
    {
      "cell_type": "code",
      "execution_count": null,
      "metadata": {
        "id": "S4lhun7_lY3a"
      },
      "outputs": [],
      "source": [
        "acc/21"
      ]
    },
    {
      "cell_type": "code",
      "execution_count": null,
      "metadata": {
        "id": "oUS-_zdjHgu_"
      },
      "outputs": [],
      "source": [
        "def get_iou(a, b, epsilon=1e-5):\n",
        "    \"\"\" Given two boxes `a` and `b` defined as a list of four numbers:\n",
        "            [x1,y1,x2,y2]\n",
        "        where:\n",
        "            x1,y1 represent the upper left corner\n",
        "            x2,y2 represent the lower right corner\n",
        "        It returns the Intersect of Union score for these two boxes.\n",
        "\n",
        "    Args:\n",
        "        a:          (list of 4 numbers) [x1,y1,x2,y2]\n",
        "        b:          (list of 4 numbers) [x1,y1,x2,y2]\n",
        "        epsilon:    (float) Small value to prevent division by zero\n",
        "\n",
        "    Returns:\n",
        "        (float) The Intersect of Union score.\n",
        "    \"\"\"\n",
        "    # COORDINATES OF THE INTERSECTION BOX\n",
        "    x1 = max(a[0], b[0])\n",
        "    y1 = max(a[1], b[1])\n",
        "    x2 = min(a[2], b[2])\n",
        "    y2 = min(a[3], b[3])\n",
        "\n",
        "    # AREA OF OVERLAP - Area where the boxes intersect\n",
        "    width = (x2 - x1)\n",
        "    height = (y2 - y1)\n",
        "    # handle case where there is NO overlap\n",
        "    if (width<0) or (height <0):\n",
        "        return 0.0\n",
        "    area_overlap = width * height\n",
        "\n",
        "    # COMBINED AREA\n",
        "    area_a = (a[2] - a[0]) * (a[3] - a[1])\n",
        "    area_b = (b[2] - b[0]) * (b[3] - b[1])\n",
        "    area_combined = area_a + area_b - area_overlap\n",
        "\n",
        "    # RATIO OF AREA OF OVERLAP OVER COMBINED AREA\n",
        "    iou = area_overlap / (area_combined+epsilon)\n",
        "    return iou"
      ]
    },
    {
      "cell_type": "code",
      "execution_count": null,
      "metadata": {
        "id": "8sqkm5IToE_X"
      },
      "outputs": [],
      "source": [
        "print(np.shape(qp))"
      ]
    }
  ],
  "metadata": {
    "accelerator": "GPU",
    "colab": {
      "machine_shape": "hm",
      "provenance": []
    },
    "kernelspec": {
      "display_name": "Python 3",
      "name": "python3"
    },
    "language_info": {
      "codemirror_mode": {
        "name": "ipython",
        "version": 3
      },
      "file_extension": ".py",
      "mimetype": "text/x-python",
      "name": "python",
      "nbconvert_exporter": "python",
      "pygments_lexer": "ipython3",
      "version": "3.9.6"
    }
  },
  "nbformat": 4,
  "nbformat_minor": 0
}
